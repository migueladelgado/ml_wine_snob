{
 "cells": [
  {
   "cell_type": "code",
   "execution_count": 51,
   "metadata": {},
   "outputs": [],
   "source": [
    "import numpy as np\n",
    "import pandas as pd\n",
    "from sklearn.model_selection import train_test_split\n",
    "from sklearn import preprocessing\n",
    "\n",
    "#model families\n",
    "from sklearn.ensemble import RandomForestRegressor\n",
    "\n",
    "#cross validation tools\n",
    "from sklearn.pipeline import make_pipeline\n",
    "from sklearn.model_selection import GridSearchCV\n",
    "\n",
    "#metrics evaluate model performance\n",
    "from sklearn.metrics import mean_squared_error, r2_score, confusion_matrix\n",
    "\n",
    "#persist model\n",
    "#from sklearn.externals import joblib\n",
    "import joblib"
   ]
  },
  {
   "cell_type": "code",
   "execution_count": null,
   "metadata": {},
   "outputs": [],
   "source": [
    "#read data from api\n",
    "url = 'http://mlr.cs.umass.edu/ml/machine-learning-databases/wine-quality/winequality-red.csv'\n",
    "data = pd.read_csv(url, sep=\";\")\n",
    "data.head()"
   ]
  },
  {
   "cell_type": "code",
   "execution_count": null,
   "metadata": {},
   "outputs": [],
   "source": [
    "data.describe()"
   ]
  },
  {
   "cell_type": "code",
   "execution_count": 14,
   "metadata": {},
   "outputs": [],
   "source": [
    "#seperate data \n",
    "y = data.quality\n",
    "X = data.drop('quality', axis=1)\n"
   ]
  },
  {
   "cell_type": "code",
   "execution_count": 15,
   "metadata": {},
   "outputs": [],
   "source": [
    "#set aside 20% of the data to test and evaluate model\n",
    "X_train, X_test, y_train, y_test = train_test_split(X, y, test_size=0.2, random_state=123, stratify=y)"
   ]
  },
  {
   "cell_type": "code",
   "execution_count": 21,
   "metadata": {},
   "outputs": [],
   "source": [
    "#standaraization => process of subtracting the means from each feature and then dividing by the stdv\n",
    "\n",
    "#scaling\n",
    "X_train_scaled = preprocessing.scale(X_train)\n"
   ]
  },
  {
   "cell_type": "code",
   "execution_count": 22,
   "metadata": {},
   "outputs": [],
   "source": [
    "#fit transformer on training set\n",
    "scaler = preprocessing.StandardScaler().fit(X_train)"
   ]
  },
  {
   "cell_type": "code",
   "execution_count": 23,
   "metadata": {},
   "outputs": [
    {
     "data": {
      "text/plain": [
       "Pipeline(steps=[('standardscaler', StandardScaler()),\n",
       "                ('randomforestregressor', RandomForestRegressor())])"
      ]
     },
     "execution_count": 23,
     "metadata": {},
     "output_type": "execute_result"
    }
   ],
   "source": [
    "#declare pipeline -- training ds centered around 0 but test is not. needs tuning\n",
    "#cross validation pipeline\n",
    "pipeline = make_pipeline(preprocessing.StandardScaler(), RandomForestRegressor(n_estimators=100))"
   ]
  },
  {
   "cell_type": "code",
   "execution_count": 31,
   "metadata": {},
   "outputs": [],
   "source": [
    "hyperparameters = { 'randomforestregressor__max_features': ['auto', 'sqrt', 'log2'], 'randomforestregressor__max_depth': [None, 5, 3, 1] }"
   ]
  },
  {
   "cell_type": "code",
   "execution_count": 32,
   "metadata": {},
   "outputs": [
    {
     "data": {
      "text/plain": [
       "GridSearchCV(cv=10,\n",
       "             estimator=Pipeline(steps=[('standardscaler', StandardScaler()),\n",
       "                                       ('randomforestregressor',\n",
       "                                        RandomForestRegressor())]),\n",
       "             param_grid={'randomforestregressor__max_depth': [None, 5, 3, 1],\n",
       "                         'randomforestregressor__max_features': ['auto', 'sqrt',\n",
       "                                                                 'log2']})"
      ]
     },
     "execution_count": 32,
     "metadata": {},
     "output_type": "execute_result"
    }
   ],
   "source": [
    "clf = GridSearchCV(pipeline, hyperparameters, cv=10)\n",
    "\n",
    "#fit and tune model\n",
    "clf.fit(X_train, y_train)"
   ]
  },
  {
   "cell_type": "code",
   "execution_count": 42,
   "metadata": {},
   "outputs": [
    {
     "name": "stdout",
     "output_type": "stream",
     "text": [
      "{'randomforestregressor__max_depth': None, 'randomforestregressor__max_features': 'log2'}\n",
      "True\n"
     ]
    }
   ],
   "source": [
    "print(clf.best_params_)\n",
    "print(clf.refit)"
   ]
  },
  {
   "cell_type": "code",
   "execution_count": 46,
   "metadata": {},
   "outputs": [
    {
     "data": {
      "text/plain": [
       "array([6.52, 5.71, 4.97, 5.49, 6.33, 5.46, 4.91, 4.76, 5.03, 5.98, 5.35,\n",
       "       5.71, 5.92, 5.08, 5.73, 5.62, 6.61, 5.81, 5.75, 6.97, 5.45, 5.56,\n",
       "       5.07, 6.02, 5.87, 5.06, 5.49, 5.04, 5.9 , 5.96, 5.87, 6.54, 5.98,\n",
       "       5.01, 5.01, 5.88, 5.05, 6.1 , 4.97, 6.05, 4.97, 5.64, 6.68, 5.03,\n",
       "       6.24, 5.39, 5.47, 5.57, 5.11, 6.38, 5.94, 5.3 , 5.8 , 5.14, 5.55,\n",
       "       5.7 , 5.28, 5.28, 5.01, 5.25, 5.28, 5.14, 5.  , 5.8 , 6.04, 5.17,\n",
       "       6.43, 5.06, 5.17, 6.69, 5.78, 5.78, 5.09, 5.  , 5.4 , 5.97, 5.25,\n",
       "       5.03, 5.31, 5.27, 6.31, 5.59, 6.28, 6.36, 5.11, 6.18, 6.38, 6.34,\n",
       "       5.68, 5.8 , 5.84, 5.32, 6.43, 5.74, 5.7 , 5.75, 6.75, 6.67, 5.57,\n",
       "       6.81, 5.14, 5.48, 5.09, 6.37, 5.02, 4.72, 5.72, 5.05, 5.61, 5.89,\n",
       "       5.92, 5.46, 6.04, 5.4 , 5.02, 5.25, 5.9 , 5.01, 4.9 , 5.96, 5.84,\n",
       "       5.05, 5.72, 6.14, 5.27, 5.24, 5.3 , 5.99, 5.54, 5.43, 5.8 , 6.1 ,\n",
       "       5.21, 5.38, 5.08, 6.42, 5.02, 5.15, 6.64, 5.52, 5.28, 5.09, 5.43,\n",
       "       6.13, 5.37, 5.47, 5.06, 6.54, 5.89, 5.13, 5.58, 5.15, 4.96, 5.04,\n",
       "       5.28, 5.9 , 5.31, 5.73, 5.73, 5.22, 5.5 , 5.25, 5.28, 5.82, 5.02,\n",
       "       6.07, 5.15, 5.4 , 5.48, 5.16, 6.  , 5.03, 5.63, 5.06, 5.58, 5.44,\n",
       "       4.95, 5.41, 5.53, 5.06, 6.03, 5.49, 5.07, 4.98, 5.15, 6.24, 5.2 ,\n",
       "       5.56, 5.3 , 4.8 , 5.51, 6.52, 5.83, 5.91, 5.38, 5.19, 5.42, 5.16,\n",
       "       6.31, 4.76, 6.45, 5.07, 5.19, 5.24, 6.99, 6.12, 5.3 , 5.22, 5.29,\n",
       "       6.02, 5.77, 6.04, 5.94, 6.33, 5.8 , 5.98, 5.25, 5.23, 5.57, 5.29,\n",
       "       5.18, 5.98, 6.3 , 5.57, 5.9 , 5.82, 5.57, 6.2 , 5.45, 5.66, 5.43,\n",
       "       5.39, 6.17, 5.63, 4.86, 4.57, 6.77, 6.43, 6.35, 5.28, 5.19, 5.56,\n",
       "       5.6 , 6.26, 5.92, 5.26, 5.12, 5.33, 5.43, 6.4 , 5.24, 5.07, 5.32,\n",
       "       5.22, 5.79, 6.38, 5.67, 5.43, 5.51, 6.43, 5.43, 5.99, 5.25, 5.02,\n",
       "       5.73, 5.79, 5.72, 5.56, 5.35, 5.02, 5.71, 5.53, 6.68, 6.05, 5.61,\n",
       "       4.98, 5.91, 6.41, 6.04, 5.52, 5.62, 5.33, 5.44, 6.01, 6.84, 5.45,\n",
       "       6.39, 5.95, 5.42, 5.43, 5.58, 5.21, 5.21, 6.28, 5.74, 6.  , 5.99,\n",
       "       5.88, 5.47, 5.73, 5.61, 6.  , 5.46, 6.89, 6.82, 5.95, 6.2 , 5.04,\n",
       "       5.3 , 5.88, 5.36, 5.3 , 6.09, 6.56, 6.59, 5.2 , 5.6 , 5.69, 6.05,\n",
       "       5.6 ])"
      ]
     },
     "execution_count": 46,
     "metadata": {},
     "output_type": "execute_result"
    }
   ],
   "source": [
    "y_pred = clf.predict(X_test)\n"
   ]
  },
  {
   "cell_type": "code",
   "execution_count": 56,
   "metadata": {},
   "outputs": [
    {
     "name": "stdout",
     "output_type": "stream",
     "text": [
      "0.46754694594103763\n",
      "0.3435778125\n"
     ]
    },
    {
     "data": {
      "text/plain": [
       "691     5\n",
       "1475    7\n",
       "1065    6\n",
       "1159    5\n",
       "227     5\n",
       "       ..\n",
       "463     5\n",
       "558     6\n",
       "1094    6\n",
       "792     6\n",
       "381     6\n",
       "Name: quality, Length: 1279, dtype: int64"
      ]
     },
     "execution_count": 56,
     "metadata": {},
     "output_type": "execute_result"
    }
   ],
   "source": [
    "print( r2_score(y_test, y_pred))\n",
    "print(mean_squared_error(y_test, y_pred))\n",
    "y_train"
   ]
  },
  {
   "cell_type": "code",
   "execution_count": 57,
   "metadata": {},
   "outputs": [
    {
     "data": {
      "text/plain": [
       "array([6.52, 5.71, 4.97, 5.49, 6.33, 5.46, 4.91, 4.76, 5.03, 5.98, 5.35,\n",
       "       5.71, 5.92, 5.08, 5.73, 5.62, 6.61, 5.81, 5.75, 6.97, 5.45, 5.56,\n",
       "       5.07, 6.02, 5.87, 5.06, 5.49, 5.04, 5.9 , 5.96, 5.87, 6.54, 5.98,\n",
       "       5.01, 5.01, 5.88, 5.05, 6.1 , 4.97, 6.05, 4.97, 5.64, 6.68, 5.03,\n",
       "       6.24, 5.39, 5.47, 5.57, 5.11, 6.38, 5.94, 5.3 , 5.8 , 5.14, 5.55,\n",
       "       5.7 , 5.28, 5.28, 5.01, 5.25, 5.28, 5.14, 5.  , 5.8 , 6.04, 5.17,\n",
       "       6.43, 5.06, 5.17, 6.69, 5.78, 5.78, 5.09, 5.  , 5.4 , 5.97, 5.25,\n",
       "       5.03, 5.31, 5.27, 6.31, 5.59, 6.28, 6.36, 5.11, 6.18, 6.38, 6.34,\n",
       "       5.68, 5.8 , 5.84, 5.32, 6.43, 5.74, 5.7 , 5.75, 6.75, 6.67, 5.57,\n",
       "       6.81, 5.14, 5.48, 5.09, 6.37, 5.02, 4.72, 5.72, 5.05, 5.61, 5.89,\n",
       "       5.92, 5.46, 6.04, 5.4 , 5.02, 5.25, 5.9 , 5.01, 4.9 , 5.96, 5.84,\n",
       "       5.05, 5.72, 6.14, 5.27, 5.24, 5.3 , 5.99, 5.54, 5.43, 5.8 , 6.1 ,\n",
       "       5.21, 5.38, 5.08, 6.42, 5.02, 5.15, 6.64, 5.52, 5.28, 5.09, 5.43,\n",
       "       6.13, 5.37, 5.47, 5.06, 6.54, 5.89, 5.13, 5.58, 5.15, 4.96, 5.04,\n",
       "       5.28, 5.9 , 5.31, 5.73, 5.73, 5.22, 5.5 , 5.25, 5.28, 5.82, 5.02,\n",
       "       6.07, 5.15, 5.4 , 5.48, 5.16, 6.  , 5.03, 5.63, 5.06, 5.58, 5.44,\n",
       "       4.95, 5.41, 5.53, 5.06, 6.03, 5.49, 5.07, 4.98, 5.15, 6.24, 5.2 ,\n",
       "       5.56, 5.3 , 4.8 , 5.51, 6.52, 5.83, 5.91, 5.38, 5.19, 5.42, 5.16,\n",
       "       6.31, 4.76, 6.45, 5.07, 5.19, 5.24, 6.99, 6.12, 5.3 , 5.22, 5.29,\n",
       "       6.02, 5.77, 6.04, 5.94, 6.33, 5.8 , 5.98, 5.25, 5.23, 5.57, 5.29,\n",
       "       5.18, 5.98, 6.3 , 5.57, 5.9 , 5.82, 5.57, 6.2 , 5.45, 5.66, 5.43,\n",
       "       5.39, 6.17, 5.63, 4.86, 4.57, 6.77, 6.43, 6.35, 5.28, 5.19, 5.56,\n",
       "       5.6 , 6.26, 5.92, 5.26, 5.12, 5.33, 5.43, 6.4 , 5.24, 5.07, 5.32,\n",
       "       5.22, 5.79, 6.38, 5.67, 5.43, 5.51, 6.43, 5.43, 5.99, 5.25, 5.02,\n",
       "       5.73, 5.79, 5.72, 5.56, 5.35, 5.02, 5.71, 5.53, 6.68, 6.05, 5.61,\n",
       "       4.98, 5.91, 6.41, 6.04, 5.52, 5.62, 5.33, 5.44, 6.01, 6.84, 5.45,\n",
       "       6.39, 5.95, 5.42, 5.43, 5.58, 5.21, 5.21, 6.28, 5.74, 6.  , 5.99,\n",
       "       5.88, 5.47, 5.73, 5.61, 6.  , 5.46, 6.89, 6.82, 5.95, 6.2 , 5.04,\n",
       "       5.3 , 5.88, 5.36, 5.3 , 6.09, 6.56, 6.59, 5.2 , 5.6 , 5.69, 6.05,\n",
       "       5.6 ])"
      ]
     },
     "execution_count": 57,
     "metadata": {},
     "output_type": "execute_result"
    }
   ],
   "source": [
    "# confusion_matrix(y_test, y_pred)\n",
    "\n",
    "y_pred"
   ]
  }
 ],
 "metadata": {
  "kernelspec": {
   "display_name": "Python 3",
   "language": "python",
   "name": "python3"
  },
  "language_info": {
   "codemirror_mode": {
    "name": "ipython",
    "version": 3
   },
   "file_extension": ".py",
   "mimetype": "text/x-python",
   "name": "python",
   "nbconvert_exporter": "python",
   "pygments_lexer": "ipython3",
   "version": "3.7.4"
  }
 },
 "nbformat": 4,
 "nbformat_minor": 4
}
